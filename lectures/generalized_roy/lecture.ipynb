{
 "cells": [
  {
   "cell_type": "markdown",
   "metadata": {
    "collapsed": true,
    "slideshow": {
     "slide_type": "slide"
    }
   },
   "source": [
    "# Generalized Roy Model\n",
    "\n",
    "<font size=\"3\"> ... background material available at <a href=\"https://github.com/policyMetrics/course\">https://github.com/policyMetrics/course</a>  </font>"
   ]
  },
  {
   "cell_type": "markdown",
   "metadata": {
    "slideshow": {
     "slide_type": "slide"
    }
   },
   "source": [
    "## The original Roy Model\n",
    "\n",
    "\n",
    "\\begin{align*}\n",
    "i = 1, 2&\\qquad \\text{occupation $i$} \\\\\n",
    "s_i &\\qquad \\text{skill in occupation $i$}\\\\\n",
    "\\pi_i & \\qquad\\text{unit price of skill $i$}\\\\\n",
    "w_i & \\qquad \\text{wage in occupation $i$}\n",
    "\\end{align*}\n",
    "\n",
    "Individuals are income-maximizing, so an individual chooses to work in sector 1 if earnings are greater there.\n",
    "\n",
    "\\begin{align*}\n",
    "\\pi S_1 > \\pi S_2\n",
    "\\end{align*}\n",
    "\n",
    "Wages are determined by efficiency units:\n",
    "\n",
    "\\begin{align*}\n",
    "w_i = \\pi_i s_i\n",
    "\\end{align*}\n",
    "\n",
    "Log-skills are jointly normal distributed\n",
    "\n",
    "\\begin{align*}\n",
    "\\begin{array}\n",
    "\\log s_1 \\\\\n",
    "\\log s_2 \n",
    "\\end{array}\n",
    "\\sim \\N\n",
    "\\end{align*}\n"
   ]
  },
  {
   "cell_type": "markdown",
   "metadata": {
    "slideshow": {
     "slide_type": "slide"
    }
   },
   "source": [
    "### Key References\n",
    "\n",
    "* Roy (1951)\n",
    "\n",
    "* Heckman & Honore(1990)"
   ]
  },
  {
   "cell_type": "markdown",
   "metadata": {
    "slideshow": {
     "slide_type": "slide"
    }
   },
   "source": [
    "## Questions\n",
    "\n",
    "* Does the pursuit of compareative advantage increase or decrease earnings in equality within sectors and in the overall economy?\n",
    "* Do the people with the highest $i$ skill actually work in sector $i$?\n",
    "* As people enter a sector in response to an increase in the demand for its services, does the average skill level employed there rise or fall?\n"
   ]
  },
  {
   "cell_type": "markdown",
   "metadata": {
    "slideshow": {
     "slide_type": "slide"
    }
   },
   "source": [
    "The proportion of the population working in sector one $P_1$ \n",
    "\\begin{align*}\n",
    "P_1 = \\int^\\infty_0 \\int^{\\pi_1 s_1 / \\pi_2}_0 f(s_1, s_s) ds_1ds_2\n",
    "\\end{align*}\n",
    "\n",
    "The density of skills employed in sector one differs from the population density of skills.\n",
    "\n",
    "\\begin{align*}\n",
    "f(s_1) & = \\int^\\infty_0 f(s_1, s_2) ds_2 \\\\\n",
    "g_1(s_1 \\mid \\pi_1 S_1 > \\pi_2 S_2) & = \\frac{1}{P} \\int^{\\pi_1 s_1 /\\pi_2}_0 f(s_1, s_2) ds_2\n",
    "\\end{align*}\n",
    "\n",
    "\n",
    "The distribution of skills employed in sector $i$ differs from the population distribution of skills due to comparative advantage."
   ]
  },
  {
   "cell_type": "markdown",
   "metadata": {
    "slideshow": {
     "slide_type": "slide"
    }
   },
   "source": [
    "The density of earnings in the sectors can be easily determined by a change of variables.\n",
    "\n",
    "\\begin{align*}\n",
    "g_1(w_1) = \\frac{1}{P_1\\pi_1} \\int^{w_1 / \\pi_2}_0 f(w_1 / \\pi_1, s_2) ds_2\n",
    "\\end{align*}\n",
    "\n",
    "The density of earnings in the economy at large $g(w)$ is a weighted average of the densities in each sector where the weight applied to sector $i$ density is the proportion of the population in the sector:\n",
    "\n",
    "\\begin{align*}\n",
    "g(w) = P_1 g_1(w) + P_2 g_2(w) \n",
    "\\end{align*}"
   ]
  },
  {
   "cell_type": "markdown",
   "metadata": {
    "slideshow": {
     "slide_type": "slide"
    }
   },
   "source": [
    "### Wage Equations\n",
    "\n",
    "\\begin{align*}\n",
    "\\log W_1 & = \\log \\pi_1 + \\mu_1 + U_1 \\\\\n",
    "\\log W_2 & = \\log \\pi_2 + \\mu_2 + U_2, \\\\\n",
    "\\end{align*}\n",
    "where $U_i = \\log S_i - \\mu_i$."
   ]
  },
  {
   "cell_type": "markdown",
   "metadata": {
    "slideshow": {
     "slide_type": "slide"
    }
   },
   "source": [
    "## The Generalized Roy Model\n",
    "\n",
    "\\begin{align}\n",
    "\\text{Potential Outcomes} &\\qquad \\text{Cost} \\\\\n",
    "Y_1 = \\mu_1(X) + U_1      &\\qquad C = \\mu_D(Z) + U_C \\\\\n",
    "Y_0 = \\mu_0(X) + U_0      &\\qquad \\\\\n",
    "    & \\\\\n",
    "\\text{Observed Outcomes } &\\qquad \\text{Choice} \\\\\n",
    "Y = D Y_1 + (1 - D)Y_0 &\\qquad S = Y_1 - Y_0 - C \\\\\n",
    "                       &\\qquad D = \\mathrm{I}[S < 0] \\\\\n",
    "\\end{align}"
   ]
  },
  {
   "cell_type": "markdown",
   "metadata": {
    "slideshow": {
     "slide_type": "slide"
    }
   },
   "source": [
    "#### Mapping Notation to original Roy Model\n",
    "\n",
    "\\begin{align}\n",
    "\\text{Potential Outcomes} &\\qquad \\text{Cost} \\\\\n",
    "W_1 = \\pi S_1      &\\qquad C = 0 \\\\\n",
    "W_2 = \\pi s_1       &\\qquad \\\\\n",
    "    & \\\\\n",
    "\\text{Observed Outcomes } &\\qquad \\text{Choice} \\\\\n",
    "W = D W_1 + (1 - D)W_2 &\\qquad S = W_1 - W_2 \\\\\n",
    "                       &\\qquad D = \\mathrm{I}[S < 0] \\\\\n",
    "\\end{align}"
   ]
  },
  {
   "cell_type": "markdown",
   "metadata": {
    "slideshow": {
     "slide_type": "slide"
    }
   },
   "source": [
    "#### Extended Roy Model\n",
    "\n",
    "\\begin{align}\n",
    "\\text{Potential Outcomes} &\\qquad \\text{Cost} \\\\\n",
    "Y_1 = \\mu_1(X) + U_1      &\\qquad C = \\mu_D(Z) \\\\\n",
    "Y_0 = \\mu_0(X) + U_0      &\\qquad \\\\\n",
    "    & \\\\\n",
    "\\text{Observed Outcomes } &\\qquad \\text{Choice} \\\\\n",
    "Y = D Y_1 + (1 - D)Y_0 &\\qquad S = Y_1 - Y_0 - C \\\\\n",
    "                       &\\qquad D = \\mathrm{I}[S < 0] \\\\\n",
    "\\end{align}\n",
    "\n"
   ]
  },
  {
   "cell_type": "markdown",
   "metadata": {
    "slideshow": {
     "slide_type": "slide"
    }
   },
   "source": [
    "### Key References\n",
    "\n",
    "* Heckman Vytlacil 2005 "
   ]
  },
  {
   "cell_type": "code",
   "execution_count": null,
   "metadata": {
    "collapsed": true
   },
   "outputs": [],
   "source": []
  }
 ],
 "metadata": {
  "celltoolbar": "Slideshow",
  "kernelspec": {
   "display_name": "Python 2",
   "language": "python",
   "name": "python2"
  },
  "language_info": {
   "codemirror_mode": {
    "name": "ipython",
    "version": 3
   },
   "file_extension": ".py",
   "mimetype": "text/x-python",
   "name": "python",
   "nbconvert_exporter": "python",
   "pygments_lexer": "ipython3",
   "version": "3.5.2"
  }
 },
 "nbformat": 4,
 "nbformat_minor": 2
}
