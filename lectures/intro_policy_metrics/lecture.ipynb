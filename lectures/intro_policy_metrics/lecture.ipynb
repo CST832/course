{
 "cells": [
  {
   "cell_type": "markdown",
   "metadata": {
    "collapsed": true,
    "slideshow": {
     "slide_type": "slide"
    }
   },
   "source": [
    "# Introduction to the Econometrics of Policy Evaluation\n",
    "\n",
    "<font size=\"3\"> ... background material available at <a href=\"https://github.com/policyMetrics/course\">https://github.com/policyMetrics/course</a>  </font>"
   ]
  },
  {
   "cell_type": "markdown",
   "metadata": {
    "slideshow": {
     "slide_type": "slide"
    }
   },
   "source": [
    "### Task\n",
    "\n",
    "* Evaluating the impacts of historical interventions on outcomes\n",
    "\n",
    "* Forecasting the impacts of interventions implemented in one environment in other environments\n",
    "\n",
    "* Forecasting the impacts of interventions never historically experienced in various environments\n"
   ]
  },
  {
   "cell_type": "markdown",
   "metadata": {
    "slideshow": {
     "slide_type": "slide"
    }
   },
   "source": [
    "The Econometrics of Policy Evaluation\n",
    "* ... is important\n",
    "\n",
    "* ... is complicated\n",
    "\n",
    "* ... is multifaceted"
   ]
  },
  {
   "cell_type": "markdown",
   "metadata": {
    "slideshow": {
     "slide_type": "slide"
    }
   },
   "source": [
    "### Numerous Applications\n",
    "\n",
    "* Labor Economics\n",
    "\n",
    "* Development Economics\n",
    "\n",
    "* Industrial Economics\n",
    "\n",
    "* Health Economics"
   ]
  },
  {
   "cell_type": "markdown",
   "metadata": {
    "slideshow": {
     "slide_type": "slide"
    }
   },
   "source": [
    "### Numerous Effects\n",
    "\n",
    "* (Local) Average Effects\n",
    "\n",
    "* Distributional Effects\n",
    "\n",
    "* Marginal Effects\n",
    "\n",
    "* Effects on Distributions"
   ]
  },
  {
   "cell_type": "markdown",
   "metadata": {
    "slideshow": {
     "slide_type": "slide"
    }
   },
   "source": [
    "### Numerous Methods\n",
    "\n",
    "* Instrumental Variables\n",
    "\n",
    "* Experiments\n",
    "\n",
    "* Matching"
   ]
  },
  {
   "cell_type": "markdown",
   "metadata": {
    "slideshow": {
     "slide_type": "slide"
    }
   },
   "source": [
    "### The Mirless Review\n",
    "\n"
   ]
  },
  {
   "cell_type": "markdown",
   "metadata": {
    "slideshow": {
     "slide_type": "slide"
    }
   },
   "source": [
    "<h1><center>References</center></h1>\n",
    "\n",
    "\n",
    "* Heckman, J. J., Moon, S. H., Pinto, R., Savelyev, P. A. and Yavitz A. (2010). [The rate of return to the HighScope Perry Preschool Program.](http://www.sciencedirect.com/science/article/pii/S0047272709001418) *Journal of Public Economics*, 94(1), 114-128\n",
    "\n",
    "* Todd, P. E. and Wolpin, K. I. (2006) [Assessing the Impact of a School Subsidy Program in Mexico: Using a Social Experiment to Validate a Dynamic Behavioral Model of Child Schooling and Fertility.](https://www.aeaweb.org/articles?id=10.1257/aer.96.5.1384) *American Economic Review*, 96(5), 1384-1417\n",
    "\n",
    "* Cho, S. and Rust, J. (2010) [The Flat Rental Puzzle.](https://www.jstor.org/stable/40587639) *The Review of Economic Studies*, 77(2), 560-594\n",
    "\n",
    "* Finkelstein, A., Taubman, S., Wright, B., Bernstein, M., Gruber, J., Newhouse, J. P., Allen, H., Baicker, K., Oregon Health Study Group (2012). [The Oregon Health Insurance Experiment: Evidence from the First Year.](https://academic.oup.com/qje/article-lookup/doi/10.1093/qje/qjs020) *The Quarterly Journal of Economics*, 127(3), 1057-1106\n",
    "\n",
    "* Gordon, R. (2011). [Commentary on Tax by Design: The Mirrlees Review.](http://onlinelibrary.wiley.com/doi/10.1111/j.1475-5890.2011.00143.x/abstract) *Fiscal Studies*, 32(3), 395-414\n",
    "\n",
    "* Adam, S., Besley, T., Blundell, R., Bond, S. and Chote, R., Gammie, M. and Johnson, P., Myles, G. and Poterba, J. M. (2010). [Dimensions of Tax Design: The Mirrlees Review.](https://www.ifs.org.uk/publications/7184) Institute for Fiscal Studies (ifs), editor, Oxford University Press\n",
    "\n",
    "* Mirrlees, J., Adam, S., Besley, T., Blundell, R., Bond, S., Chote, R., Gammie, M., Johnson, P., Myles, G. and Poterba, J. M. (2011) [Tax by design.](https://www.ifs.org.uk/publications/5353) Institute for Fiscal Studies (IFS) and Mirrlees, J., editors, Oxford University Press\n"
   ]
  },
  {
   "cell_type": "code",
   "execution_count": null,
   "metadata": {
    "collapsed": true
   },
   "outputs": [],
   "source": []
  }
 ],
 "metadata": {
  "celltoolbar": "Slideshow",
  "kernelspec": {
   "display_name": "Python 3",
   "language": "python",
   "name": "python3"
  },
  "language_info": {
   "codemirror_mode": {
    "name": "ipython",
    "version": 3
   },
   "file_extension": ".py",
   "mimetype": "text/x-python",
   "name": "python",
   "nbconvert_exporter": "python",
   "pygments_lexer": "ipython3",
   "version": "3.6.1"
  }
 },
 "nbformat": 4,
 "nbformat_minor": 2
}
