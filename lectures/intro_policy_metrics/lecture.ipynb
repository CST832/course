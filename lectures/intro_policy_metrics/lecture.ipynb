{
 "cells": [
  {
   "cell_type": "markdown",
   "metadata": {
    "collapsed": true,
    "slideshow": {
     "slide_type": "slide"
    }
   },
   "source": [
    "# Introduction to the Econometrics of Policy Evaluation\n",
    "\n",
    "<font size=\"3\"> ... background material available at <a href=\"https://github.com/policyMetrics/course\">https://github.com/policyMetrics/course</a>  </font>"
   ]
  },
  {
   "cell_type": "markdown",
   "metadata": {
    "slideshow": {
     "slide_type": "slide"
    }
   },
   "source": [
    "### Policy Evaluation Tasks\n",
    "\n",
    "Heckman (2008) defines three policy evaluation tasks:\n",
    "\n",
    "* Evaluating the impact of historical interventions on outcomes including their impact in terms of well-being of the treated and the society at large.\n",
    "\n",
    "* Forecasting the impact of historical interventions implemented in one environment in other environments, including their impact in terms of well-being.\n",
    "\n",
    "* Forecasting the impacts of interventions never historically experienced to various environments, including their impact on well-being."
   ]
  },
  {
   "cell_type": "markdown",
   "metadata": {
    "slideshow": {
     "slide_type": "slide"
    }
   },
   "source": [
    "The Econometrics of Policy Evaluation\n",
    "* ... is important\n",
    "\n",
    "* ... is complicated\n",
    "\n",
    "* ... is multifaceted"
   ]
  },
  {
   "cell_type": "markdown",
   "metadata": {
    "slideshow": {
     "slide_type": "slide"
    }
   },
   "source": [
    "### Numerous Applications\n",
    "\n",
    "* Labor Economics\n",
    "\n",
    "* Development Economics\n",
    "\n",
    "* Industrial Economics\n",
    "\n",
    "* Health Economics"
   ]
  },
  {
   "cell_type": "markdown",
   "metadata": {
    "slideshow": {
     "slide_type": "slide"
    }
   },
   "source": [
    "### Numerous Effects\n",
    "\n",
    "* (Local) Average Effects\n",
    "\n",
    "* Distributional Effects\n",
    "\n",
    "* Marginal Effects\n",
    "\n",
    "* Effects on Distributions"
   ]
  },
  {
   "cell_type": "markdown",
   "metadata": {
    "slideshow": {
     "slide_type": "slide"
    }
   },
   "source": [
    "### Numerous Methods\n",
    "\n",
    "* Instrumental Variables\n",
    "\n",
    "* Experiments\n",
    "\n",
    "* Matching"
   ]
  },
  {
   "cell_type": "markdown",
   "metadata": {
    "slideshow": {
     "slide_type": "slide"
    }
   },
   "source": [
    "## Unifying Framework\n",
    "\n",
    "**Generalized Roy Model**\n",
    "\n",
    "\\begin{align*}\n",
    "\\text{Potential Outcomes} &\\qquad \\text{Cost} \\\\\n",
    "Y_1 = \\mu_1(X) + U_1      &\\qquad C = \\mu_D(Z) + U_C \\\\\n",
    "Y_0 = \\mu_0(X) + U_0      &\\qquad \\\\\n",
    "    & \\\\\n",
    "\\text{Observed Outcomes } &\\qquad \\text{Choice} \\\\\n",
    "Y = D Y_1 + (1 - D)Y_0 &\\qquad S = Y_1 - Y_0 - C \\\\\n",
    "                       &\\qquad D = \\mathrm{I}[S > 0] \\\\\n",
    "\\end{align*}"
   ]
  },
  {
   "cell_type": "markdown",
   "metadata": {
    "slideshow": {
     "slide_type": "slide"
    }
   },
   "source": [
    "## Lecture Plan\n",
    "\n",
    "\n",
    "\n",
    "| Date      | Topic                                                  |\n",
    "| ----------| :----------------------------------------------------- |\n",
    "| 19/10/17  | Generalized Roy Model                                  |\n",
    "| 26/10/17  | Parameters of Interest                                 |\n",
    "| 02/11/17  | Estimation Methods                                     |\n",
    "| 09/11/17  | *grmpy* Tutorial                                       |\n",
    "| 16/11/17  | Monte-Carlo Explorations                               |\n",
    "| 23/11/17  |                                                        |\n",
    "| 30/11/17  |                                                        |"
   ]
  },
  {
   "cell_type": "markdown",
   "metadata": {
    "slideshow": {
     "slide_type": "slide"
    }
   },
   "source": [
    "## Teaching Tool"
   ]
  },
  {
   "cell_type": "markdown",
   "metadata": {
    "slideshow": {
     "slide_type": "slide"
    }
   },
   "source": [
    "<img src=\"material/fig-online-documentation.png\">"
   ]
  },
  {
   "cell_type": "markdown",
   "metadata": {
    "slideshow": {
     "slide_type": "slide"
    }
   },
   "source": [
    "### The Mirless Review\n",
    "\n",
    "> The Mirrlees Review brought together a high-profile group of international experts and early career researchers to identify the characteristics of a good tax system for any open developed economy in the 21st century, assess the extent to which the UK tax system conforms to these ideals, and recommend how it might realistically be reformed in that direction."
   ]
  },
  {
   "cell_type": "markdown",
   "metadata": {
    "slideshow": {
     "slide_type": "slide"
    }
   },
   "source": [
    "<img src=\"material/fig-mirrlees-review-1.png\" height=\"500\" width=\"350\">\n"
   ]
  },
  {
   "cell_type": "markdown",
   "metadata": {
    "slideshow": {
     "slide_type": "slide"
    }
   },
   "source": [
    "<img src=\"material/fig-mirrlees-review-2.png\" height=\"500\" width=\"350\">\n"
   ]
  },
  {
   "cell_type": "markdown",
   "metadata": {
    "slideshow": {
     "slide_type": "slide"
    }
   },
   "source": [
    "### Key Findings\n",
    "\n",
    "* **Taxation of Earnings** \n",
    "    - A single integrated benefit should be introduced to replace all or most of\n",
    "the current multiplicity of benefits, rationalising the way in which total\n",
    "support varies with income and other characteristics.\n",
    "\n",
    "* **Indirect Taxes**\n",
    "    - VAT should be extended to nearly all spending. This would reduce\n",
    "complexity and avoid costly distortions to consumption choices."
   ]
  },
  {
   "cell_type": "markdown",
   "metadata": {
    "slideshow": {
     "slide_type": "slide"
    }
   },
   "source": [
    "* **Environmental Taxes**\n",
    "    - We should work towards a comprehensive system of congestion\n",
    "charging on the roads, replacing most of fuel duty.\n",
    "\n",
    "* **Taxes on Saving**\n",
    "    - The risk-free return to saving should not be taxed, so that\n",
    "saving is not discouraged. \n",
    "\n",
    "* **Business Taxes**\n",
    "    - The tax treatment of employment, self-employment and corporatesource\n",
    "income should be aligned."
   ]
  },
  {
   "cell_type": "markdown",
   "metadata": {
    "slideshow": {
     "slide_type": "slide"
    }
   },
   "source": [
    "<h1><center>References</center></h1>\n",
    "\n",
    "\n",
    "* Heckman, J. J., Moon, S. H., Pinto, R., Savelyev, P. A. and Yavitz A. (2010). [The rate of return to the HighScope Perry Preschool Program.](http://www.sciencedirect.com/science/article/pii/S0047272709001418) *Journal of Public Economics*, 94(1), 114-128\n",
    "\n",
    "* Todd, P. E. and Wolpin, K. I. (2006) [Assessing the Impact of a School Subsidy Program in Mexico: Using a Social Experiment to Validate a Dynamic Behavioral Model of Child Schooling and Fertility.](https://www.aeaweb.org/articles?id=10.1257/aer.96.5.1384) *American Economic Review*, 96(5), 1384-1417\n",
    "\n",
    "* Cho, S. and Rust, J. (2010) [The Flat Rental Puzzle.](https://www.jstor.org/stable/40587639) *The Review of Economic Studies*, 77(2), 560-594"
   ]
  },
  {
   "cell_type": "markdown",
   "metadata": {
    "collapsed": true,
    "slideshow": {
     "slide_type": "slide"
    }
   },
   "source": [
    "\n",
    "* Finkelstein, A., Taubman, S., Wright, B., Bernstein, M., Gruber, J., Newhouse, J. P., Allen, H., Baicker, K., Oregon Health Study Group (2012). [The Oregon Health Insurance Experiment: Evidence from the First Year.](https://academic.oup.com/qje/article-lookup/doi/10.1093/qje/qjs020) *The Quarterly Journal of Economics*, 127(3), 1057-1106\n",
    "\n",
    "* Gordon, R. (2011). [Commentary on Tax by Design: The Mirrlees Review.](http://onlinelibrary.wiley.com/doi/10.1111/j.1475-5890.2011.00143.x/abstract) *Fiscal Studies*, 32(3), 395-414\n",
    "\n",
    "* Adam, S., Besley, T., Blundell, R., Bond, S. and Chote, R., Gammie, M. and Johnson, P., Myles, G. and Poterba, J. M. (2010). [Dimensions of Tax Design: The Mirrlees Review.](https://www.ifs.org.uk/publications/7184) Institute for Fiscal Studies (ifs), editor, Oxford University Press\n",
    "\n",
    "* Mirrlees, J., Adam, S., Besley, T., Blundell, R., Bond, S., Chote, R., Gammie, M., Johnson, P., Myles, G. and Poterba, J. M. (2011) [Tax by design.](https://www.ifs.org.uk/publications/5353) Institute for Fiscal Studies (IFS) and Mirrlees, J., editors, Oxford University Press"
   ]
  }
 ],
 "metadata": {
  "celltoolbar": "Slideshow",
  "kernelspec": {
   "display_name": "Python 3",
   "language": "python",
   "name": "python3"
  },
  "language_info": {
   "codemirror_mode": {
    "name": "ipython",
    "version": 3
   },
   "file_extension": ".py",
   "mimetype": "text/x-python",
   "name": "python",
   "nbconvert_exporter": "python",
   "pygments_lexer": "ipython3",
   "version": "3.5.2"
  }
 },
 "nbformat": 4,
 "nbformat_minor": 2
}
