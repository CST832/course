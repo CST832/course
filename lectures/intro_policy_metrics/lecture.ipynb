{
 "cells": [
  {
   "cell_type": "markdown",
   "metadata": {
    "collapsed": true,
    "slideshow": {
     "slide_type": "slide"
    }
   },
   "source": [
    "# Introduction to the Econometrics of Policy Evaluation\n",
    "\n",
    "<font size=\"3\"> ... background material available at <a href=\"https://github.com/policyMetrics/course\">https://github.com/policyMetrics/course</a>  </font>"
   ]
  },
  {
   "cell_type": "markdown",
   "metadata": {
    "slideshow": {
     "slide_type": "slide"
    }
   },
   "source": [
    "### Task\n",
    "\n",
    "* Evaluating the impacts of historical interventions on outcomes\n",
    "\n",
    "* Forecasting the impacts of interventions implemented in one environment in other environments\n",
    "\n",
    "* Forecasting the impacts of interventions never historically experienced in various environments\n"
   ]
  },
  {
   "cell_type": "markdown",
   "metadata": {
    "slideshow": {
     "slide_type": "slide"
    }
   },
   "source": [
    "The Econometrics of Policy Evaluation\n",
    "* ... is important\n",
    "\n",
    "* ... is complicated\n",
    "\n",
    "* ... is multifaceted"
   ]
  },
  {
   "cell_type": "markdown",
   "metadata": {
    "slideshow": {
     "slide_type": "slide"
    }
   },
   "source": [
    "### Numerous Applications\n",
    "\n",
    "* Labor Economics\n",
    "\n",
    "* Development Economics\n",
    "\n",
    "* Industrial Economics\n",
    "\n",
    "* Health Economics"
   ]
  },
  {
   "cell_type": "markdown",
   "metadata": {
    "slideshow": {
     "slide_type": "slide"
    }
   },
   "source": [
    "### Numerous Effects\n",
    "\n",
    "* (Local) Average Effects\n",
    "\n",
    "* Distributional Effects\n",
    "\n",
    "* Marginal Effects\n",
    "\n",
    "* Effects on Distributions"
   ]
  },
  {
   "cell_type": "markdown",
   "metadata": {
    "slideshow": {
     "slide_type": "slide"
    }
   },
   "source": [
    "### Numerous Methods\n",
    "\n",
    "* Instrumental Variables\n",
    "\n",
    "* Experiments\n",
    "\n",
    "* Matching"
   ]
  },
  {
   "cell_type": "markdown",
   "metadata": {
    "slideshow": {
     "slide_type": "slide"
    }
   },
   "source": [
    "### The Mirless Review\n",
    "\n"
   ]
  },
  {
   "cell_type": "markdown",
   "metadata": {
    "slideshow": {
     "slide_type": "slide"
    }
   },
   "source": [
    "<h1><center>References</center></h1>"
   ]
  }
 ],
 "metadata": {
  "celltoolbar": "Slideshow",
  "kernelspec": {
   "display_name": "Python 3",
   "language": "python",
   "name": "python3"
  },
  "language_info": {
   "codemirror_mode": {
    "name": "ipython",
    "version": 3
   },
   "file_extension": ".py",
   "mimetype": "text/x-python",
   "name": "python",
   "nbconvert_exporter": "python",
   "pygments_lexer": "ipython3",
   "version": "3.5.2"
  }
 },
 "nbformat": 4,
 "nbformat_minor": 2
}
