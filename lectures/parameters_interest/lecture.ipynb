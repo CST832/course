{
 "cells": [
  {
   "cell_type": "markdown",
   "metadata": {
    "collapsed": true,
    "slideshow": {
     "slide_type": "slide"
    }
   },
   "source": [
    "# Parameters of Interest\n",
    "\n",
    "<font size=\"3\"> ... background material available at <a href=\"https://github.com/policyMetrics/course\">https://github.com/policyMetrics/course</a>  </font>"
   ]
  },
  {
   "cell_type": "markdown",
   "metadata": {
    "slideshow": {
     "slide_type": "slide"
    }
   },
   "source": [
    "## The Generalized Roy Model\n",
    "\n",
    "\\begin{align}\n",
    "\\text{Potential Outcomes} &\\qquad \\text{Cost} \\\\\n",
    "Y_1 = \\mu_1(X) + U_1      &\\qquad C = \\mu_D(Z) + U_C \\\\\n",
    "Y_0 = \\mu_0(X) + U_0      &\\qquad \\\\\n",
    "    & \\\\\n",
    "\\text{Observed Outcomes } &\\qquad \\text{Choice} \\\\\n",
    "Y = D Y_1 + (1 - D)Y_0 &\\qquad S = Y_1 - Y_0 - C \\\\\n",
    "                       &\\qquad D = \\mathrm{I}[S < 0] \\\\\n",
    "\\end{align}"
   ]
  },
  {
   "cell_type": "markdown",
   "metadata": {
    "slideshow": {
     "slide_type": "slide"
    }
   },
   "source": [
    "### Useful Notation\n",
    "\n",
    "\\begin{align*}\n",
    "\\mu_S(X, Z) & = (\\mu_1(X) - \\mu_0(X)) - \\mu_C(Z) \\\\\n",
    "V & = U_C - (U_1 - U_0) \\\\\n",
    "P(X, Z) & = \\Pr(D = 1 \\mid X, Z)  = F_V(\\mu_S(X, Z)) \\\\\n",
    "U_s & F_V(V) \n",
    "\\end{align*}\n",
    "\n",
    "Rewriting Choice Equation\n",
    "\n",
    "\\begin{align*}\n",
    "D = \\mathrm{I}[P(X,Z) > U_S]\n",
    "\\end{align*}"
   ]
  },
  {
   "cell_type": "markdown",
   "metadata": {
    "slideshow": {
     "slide_type": "slide"
    }
   },
   "source": [
    "### Individual - Specific Effect of Treatment\n",
    "\n",
    "\\begin{align*}\n",
    "Y_1 - Y_0 = (\\mu_1(X) - \\mu_0(X)) + (U_1 - U_0)\\\\\n",
    "\\end{align*}\n",
    "\n",
    "Sources of Heterogeneity\n",
    "* Difference in Observable Characteristics\n",
    "* Difference in Unobservable Characteristics\n",
    "    * Uncertainty\n",
    "    * Private Information"
   ]
  },
  {
   "cell_type": "markdown",
   "metadata": {
    "slideshow": {
     "slide_type": "slide"
    }
   },
   "source": [
    "### Conventional Treatment Effects\n",
    "\n",
    "\\begin{align*}\n",
    "B^{ATE} & = E[Y_1 - Y_0 ]\\\\\n",
    "B^{TT} & = E[Y_1 - Y_0 \\mid D = 1]\\\\\n",
    "B^{TUT} & = E[Y_1 - Y_0 \\mid D = 0]\\\\\n",
    "\\end{align*}\n",
    "\n",
    "* correspond to *extreme* policy alternatives\n"
   ]
  },
  {
   "cell_type": "markdown",
   "metadata": {
    "slideshow": {
     "slide_type": "slide"
    }
   },
   "source": [
    "### Policy-Relevant Treatment Effect\n",
    "\n",
    "\\begin{align*}\n",
    "PRTE & = \\frac{1}{E[D_B] - E[D_A]} \\left[ E[Y_B] - E[Y_A]\\right]\n",
    "\\end{align*}.\n",
    "\n",
    "**Intuition** Mean effect of treatment on obsrved outcomes per net individual shifted by a change from a baseline policy A to an alternative policy regime B."
   ]
  },
  {
   "cell_type": "markdown",
   "metadata": {
    "slideshow": {
     "slide_type": "slide"
    }
   },
   "source": [
    "### Surplus\n",
    "\n",
    "\\begin{align*}\n",
    "S(p) = E[Y_1 - Y_0 \\mid U_S \\leq p]p\n",
    "\\end{align*}\n",
    "\n",
    "**Intuition** Mean gross surplus in the population that arises from participation in the program is the product of the gain to people whose $U_S$ is at or below $p$ and the proportion of those people in the program."
   ]
  },
  {
   "cell_type": "markdown",
   "metadata": {
    "slideshow": {
     "slide_type": "slide"
    }
   },
   "source": [
    "### Marginal Benefit of Treatment\n",
    "\n",
    "\\begin{align*}\n",
    "B^{MTE}(x, u_S) = E [Y_1 - Y_0 \\mid X = x, U_S = u_S]\n",
    "\\end{align*}\n",
    "\n",
    "**Intuition** Mean gross return to treatment for persons at quantile $u_S$ of the first-stage unobservable $V$."
   ]
  },
  {
   "cell_type": "markdown",
   "metadata": {
    "slideshow": {
     "slide_type": "slide"
    }
   },
   "source": [
    "### Local Instrumental Variables\n",
    "\n",
    "\\begin{align*}\n",
    "E[Y\\mid P(Z) = p] & = E[Y_0 + I[p \\geq U_S](Y_1 - Y_0)] \\\\\n",
    "        & = E[Y_O] + \\underbrace{E[Y_1 - Y_0 \\mid p \\geq U_S]p}_{S(p)} \\\\\n",
    "        & = E[Y_0] + \\mid_0^p E[Y_1 - Y_0 \\mid U_S = u_S] du_s\n",
    "\\end{align*}"
   ]
  },
  {
   "cell_type": "markdown",
   "metadata": {
    "slideshow": {
     "slide_type": "slide"
    }
   },
   "source": [
    "\\begin{align*}\n",
    "\\frac{\\partial E[Y\\mid P(Z) = p]}{\\partial p}\\mid_{P(z) = p} & = E [Y_1 - Y_0 \\mid U_S = p] \\\\\n",
    "    & = B^{MTE}(p)\n",
    "\\end{align*}\n",
    "\n",
    "**Intuition** Local instrumental variables corresponds to the average effect for people who are just indiffiferent between participation or not at a given level of $p$.\n",
    "\n",
    "* conditioning $X = x$ is left implicit "
   ]
  },
  {
   "cell_type": "code",
   "execution_count": null,
   "metadata": {
    "collapsed": true
   },
   "outputs": [],
   "source": []
  }
 ],
 "metadata": {
  "celltoolbar": "Slideshow",
  "kernelspec": {
   "display_name": "Python 3",
   "language": "python",
   "name": "python3"
  },
  "language_info": {
   "codemirror_mode": {
    "name": "ipython",
    "version": 3
   },
   "file_extension": ".py",
   "mimetype": "text/x-python",
   "name": "python",
   "nbconvert_exporter": "python",
   "pygments_lexer": "ipython3",
   "version": "3.5.2"
  }
 },
 "nbformat": 4,
 "nbformat_minor": 2
}
